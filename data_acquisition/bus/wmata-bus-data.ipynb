{
 "cells": [
  {
   "cell_type": "code",
   "execution_count": 1,
   "metadata": {},
   "outputs": [],
   "source": [
    "import requests\n",
    "import config\n",
    "import pandas as pd\n",
    "import numpy as np\n",
    "from pprint import pprint\n",
    "import os"
   ]
  },
  {
   "cell_type": "code",
   "execution_count": 2,
   "metadata": {},
   "outputs": [
    {
     "name": "stdout",
     "output_type": "stream",
     "text": [
      "Finished\n"
     ]
    }
   ],
   "source": [
    "def getBusPositions(api_key):\n",
    "    headers = {'api_key':api_key}\n",
    "    #request all buses positions\n",
    "    r = requests.get('https://api.wmata.com/Bus.svc/json/jBusPositions', headers=headers)\n",
    "    if r.status_code == 200:\n",
    "        response = r.json()\n",
    "        return response\n",
    "    else:\n",
    "        print(f'getBusPositions: Unable to get the data. Error code: {r.status_code}')\n",
    "        return False\n",
    "\n",
    "#collecting bus positions and saving them to the file\n",
    "def collectBusPositions():\n",
    "\n",
    "    results = getBusPositions(config.api_key)\n",
    "\n",
    "    if results:\n",
    "        bus_positions = pd.DataFrame(results['BusPositions'])\n",
    "        \n",
    "        #convert date columns to datetime type\n",
    "        bus_positions.loc[:, ['DateTime','TripEndTime','TripStartTime']] = \\\n",
    "            bus_positions.loc[:, ['DateTime','TripEndTime','TripStartTime']].apply(pd.to_datetime, errors='coerce')\n",
    "\n",
    "        # if file does not exist write header \n",
    "        path = 'resources/bus_positions.csv'\n",
    "        if not os.path.isfile(path):\n",
    "            bus_positions.to_csv(path,index=False, )\n",
    "        else: # else it exists so append without writing the header\n",
    "            bus_positions.to_csv(path,mode = 'a',header=False,index=False)\n",
    "\n",
    "if __name__ == '__main__':\n",
    "    collectBusPositions()\n",
    "    \n",
    "print('Finished')"
   ]
  },
  {
   "cell_type": "code",
   "execution_count": 4,
   "metadata": {},
   "outputs": [],
   "source": [
    "#data from July through June \n",
    "\n",
    "def readData():\n",
    "    #cicle through year's CSV\n",
    "    result = pd.DataFrame(columns=['Ridership'])\n",
    "    for year in range(2013,2018):\n",
    "        #read csv\n",
    "        path = 'resources/Ridership_Data_for_FY_' + str(year) + '.csv'\n",
    "        df = pd.read_csv(path)\n",
    "\n",
    "        #leave the ridership columns only\n",
    "        df = df[['Operator','July','August','September', \\\n",
    "                 'October','November','December', \\\n",
    "                 'January','February','March',\\\n",
    "                 'April','May','June']]\n",
    "\n",
    "        #choose the bus lines to keep\n",
    "        operators = (df['Operator']=='ART Bus')|(df['Operator']=='DC Circulator')|(df['Operator']=='MTA')|(df['Operator'] == 'Metro Bus') \n",
    "        df = df.loc[operators]\n",
    "\n",
    "        #rename columns\n",
    "        columns = ['Operator'] + \\\n",
    "                  [x + str(year) for x in df.columns.tolist()[1:7]] + \\\n",
    "                  [x + str(year+1) for x in df.columns.tolist()[7:]]\n",
    "        df.columns = columns\n",
    "        df = df.set_index('Operator')\n",
    "\n",
    "        #setup datetime format\n",
    "        rdT = df.transpose()\n",
    "        rdT['date'] = rdT.index\n",
    "        rdT = pd.melt(rdT, id_vars=['date'])\n",
    "        rdT = rdT.groupby('date').agg({'value':sum})\n",
    "        rdT.index = pd.to_datetime(rdT.index).strftime('%Y%m')\n",
    "        rdT.columns = ['Ridership']\n",
    "        result = result.append(rdT)\n",
    "    return result\n",
    "\n",
    "#collect and combine all the data\n",
    "combined = readData().sort_index()\n",
    "combined.index.name = 'Date'\n",
    "combined.head()\n",
    "#save to CSV\n",
    "combined.to_csv('resources/combined.csv')"
   ]
  },
  {
   "cell_type": "code",
   "execution_count": null,
   "metadata": {},
   "outputs": [],
   "source": []
  }
 ],
 "metadata": {
  "kernelspec": {
   "display_name": "Python [conda env:PythonData]",
   "language": "python",
   "name": "conda-env-PythonData-py"
  },
  "language_info": {
   "codemirror_mode": {
    "name": "ipython",
    "version": 3
   },
   "file_extension": ".py",
   "mimetype": "text/x-python",
   "name": "python",
   "nbconvert_exporter": "python",
   "pygments_lexer": "ipython3",
   "version": "3.6.5"
  },
  "varInspector": {
   "cols": {
    "lenName": 16,
    "lenType": 16,
    "lenVar": 40
   },
   "kernels_config": {
    "python": {
     "delete_cmd_postfix": "",
     "delete_cmd_prefix": "del ",
     "library": "var_list.py",
     "varRefreshCmd": "print(var_dic_list())"
    },
    "r": {
     "delete_cmd_postfix": ") ",
     "delete_cmd_prefix": "rm(",
     "library": "var_list.r",
     "varRefreshCmd": "cat(var_dic_list()) "
    }
   },
   "types_to_exclude": [
    "module",
    "function",
    "builtin_function_or_method",
    "instance",
    "_Feature"
   ],
   "window_display": false
  }
 },
 "nbformat": 4,
 "nbformat_minor": 2
}
