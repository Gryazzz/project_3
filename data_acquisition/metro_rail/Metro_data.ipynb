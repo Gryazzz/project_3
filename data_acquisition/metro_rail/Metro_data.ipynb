{
 "cells": [
  {
   "cell_type": "code",
   "execution_count": 2,
   "metadata": {},
   "outputs": [],
   "source": [
    "import pandas as pd\n",
    "import os\n",
    "import numpy as np\n",
    "import matplotlib.pyplot as plt\n",
    "\n",
    "data_file = 'All_Metro.txt'\n",
    "metro_df=pd.read_csv(data_file, delim_whitespace=True)"
   ]
  },
  {
   "cell_type": "code",
   "execution_count": 3,
   "metadata": {},
   "outputs": [
    {
     "data": {
      "text/html": [
       "<div>\n",
       "<style scoped>\n",
       "    .dataframe tbody tr th:only-of-type {\n",
       "        vertical-align: middle;\n",
       "    }\n",
       "\n",
       "    .dataframe tbody tr th {\n",
       "        vertical-align: top;\n",
       "    }\n",
       "\n",
       "    .dataframe thead th {\n",
       "        text-align: right;\n",
       "    }\n",
       "</style>\n",
       "<table border=\"1\" class=\"dataframe\">\n",
       "  <thead>\n",
       "    <tr style=\"text-align: right;\">\n",
       "      <th></th>\n",
       "      <th>Date</th>\n",
       "      <th>ROTP</th>\n",
       "      <th>RailReliability</th>\n",
       "      <th>MetroAccessOTP</th>\n",
       "      <th>EscalatorAvail</th>\n",
       "      <th>ElevatorAvail</th>\n",
       "      <th>TotalInjuries</th>\n",
       "      <th>Crime</th>\n",
       "      <th>Ridership</th>\n",
       "    </tr>\n",
       "  </thead>\n",
       "  <tbody>\n",
       "    <tr>\n",
       "      <th>0</th>\n",
       "      <td>201101</td>\n",
       "      <td>0.879</td>\n",
       "      <td>48241</td>\n",
       "      <td>0.901</td>\n",
       "      <td>0.888</td>\n",
       "      <td>96.30%</td>\n",
       "      <td>2.08</td>\n",
       "      <td>6.39</td>\n",
       "      <td>21082553</td>\n",
       "    </tr>\n",
       "    <tr>\n",
       "      <th>1</th>\n",
       "      <td>201102</td>\n",
       "      <td>0.887</td>\n",
       "      <td>37703</td>\n",
       "      <td>0.890</td>\n",
       "      <td>0.866</td>\n",
       "      <td>96.00%</td>\n",
       "      <td>1.66</td>\n",
       "      <td>4.68</td>\n",
       "      <td>21228262</td>\n",
       "    </tr>\n",
       "    <tr>\n",
       "      <th>2</th>\n",
       "      <td>201103</td>\n",
       "      <td>0.910</td>\n",
       "      <td>50328</td>\n",
       "      <td>0.913</td>\n",
       "      <td>0.869</td>\n",
       "      <td>96.90%</td>\n",
       "      <td>2.16</td>\n",
       "      <td>3.96</td>\n",
       "      <td>26170157</td>\n",
       "    </tr>\n",
       "    <tr>\n",
       "      <th>3</th>\n",
       "      <td>201104</td>\n",
       "      <td>0.909</td>\n",
       "      <td>39302</td>\n",
       "      <td>0.912</td>\n",
       "      <td>0.862</td>\n",
       "      <td>96.40%</td>\n",
       "      <td>2.21</td>\n",
       "      <td>4.72</td>\n",
       "      <td>25656797</td>\n",
       "    </tr>\n",
       "    <tr>\n",
       "      <th>4</th>\n",
       "      <td>201105</td>\n",
       "      <td>0.909</td>\n",
       "      <td>37355</td>\n",
       "      <td>0.922</td>\n",
       "      <td>0.825</td>\n",
       "      <td>97.40%</td>\n",
       "      <td>1.69</td>\n",
       "      <td>7.32</td>\n",
       "      <td>24342603</td>\n",
       "    </tr>\n",
       "  </tbody>\n",
       "</table>\n",
       "</div>"
      ],
      "text/plain": [
       "     Date   ROTP  RailReliability  MetroAccessOTP  EscalatorAvail  \\\n",
       "0  201101  0.879            48241           0.901           0.888   \n",
       "1  201102  0.887            37703           0.890           0.866   \n",
       "2  201103  0.910            50328           0.913           0.869   \n",
       "3  201104  0.909            39302           0.912           0.862   \n",
       "4  201105  0.909            37355           0.922           0.825   \n",
       "\n",
       "  ElevatorAvail  TotalInjuries  Crime  Ridership  \n",
       "0        96.30%           2.08   6.39   21082553  \n",
       "1        96.00%           1.66   4.68   21228262  \n",
       "2        96.90%           2.16   3.96   26170157  \n",
       "3        96.40%           2.21   4.72   25656797  \n",
       "4        97.40%           1.69   7.32   24342603  "
      ]
     },
     "execution_count": 3,
     "metadata": {},
     "output_type": "execute_result"
    }
   ],
   "source": [
    "metro_df.head()"
   ]
  },
  {
   "cell_type": "code",
   "execution_count": 6,
   "metadata": {},
   "outputs": [],
   "source": [
    "metro_df[['Date','Ridership']].to_csv('metro.csv')"
   ]
  },
  {
   "cell_type": "code",
   "execution_count": null,
   "metadata": {},
   "outputs": [],
   "source": []
  }
 ],
 "metadata": {
  "kernelspec": {
   "display_name": "Python [default]",
   "language": "python",
   "name": "python3"
  },
  "language_info": {
   "codemirror_mode": {
    "name": "ipython",
    "version": 3
   },
   "file_extension": ".py",
   "mimetype": "text/x-python",
   "name": "python",
   "nbconvert_exporter": "python",
   "pygments_lexer": "ipython3",
   "version": "3.6.4"
  },
  "varInspector": {
   "cols": {
    "lenName": 16,
    "lenType": 16,
    "lenVar": 40
   },
   "kernels_config": {
    "python": {
     "delete_cmd_postfix": "",
     "delete_cmd_prefix": "del ",
     "library": "var_list.py",
     "varRefreshCmd": "print(var_dic_list())"
    },
    "r": {
     "delete_cmd_postfix": ") ",
     "delete_cmd_prefix": "rm(",
     "library": "var_list.r",
     "varRefreshCmd": "cat(var_dic_list()) "
    }
   },
   "types_to_exclude": [
    "module",
    "function",
    "builtin_function_or_method",
    "instance",
    "_Feature"
   ],
   "window_display": false
  }
 },
 "nbformat": 4,
 "nbformat_minor": 2
}
