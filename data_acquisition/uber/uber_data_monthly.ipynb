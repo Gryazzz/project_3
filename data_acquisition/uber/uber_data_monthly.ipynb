{
 "cells": [
  {
   "cell_type": "code",
   "execution_count": 1,
   "metadata": {},
   "outputs": [],
   "source": [
    "import pandas as pd\n",
    "import glob\n",
    "from matplotlib import pyplot as plt\n",
    "import seaborn as sns"
   ]
  },
  {
   "cell_type": "code",
   "execution_count": 2,
   "metadata": {},
   "outputs": [],
   "source": [
    "# Write a path to the files and an empty df\n",
    "path = glob.glob('raw_data/monthly/*/*.csv')\n",
    "df = pd.DataFrame()"
   ]
  },
  {
   "cell_type": "code",
   "execution_count": 3,
   "metadata": {},
   "outputs": [],
   "source": [
    "# Create merged df\n",
    "x = 0\n",
    "for filepath in path:\n",
    "    name = filepath.split('/')\n",
    "    readfile = pd.read_csv(filepath)\n",
    "    df_x = pd.DataFrame(readfile)\n",
    "    df_x['year'] = int(name[2])\n",
    "    \n",
    "    df = df.append(df_x, ignore_index=True)\n",
    "    x += 1"
   ]
  },
  {
   "cell_type": "code",
   "execution_count": 4,
   "metadata": {},
   "outputs": [
    {
     "data": {
      "text/html": [
       "<div>\n",
       "<style scoped>\n",
       "    .dataframe tbody tr th:only-of-type {\n",
       "        vertical-align: middle;\n",
       "    }\n",
       "\n",
       "    .dataframe tbody tr th {\n",
       "        vertical-align: top;\n",
       "    }\n",
       "\n",
       "    .dataframe thead th {\n",
       "        text-align: right;\n",
       "    }\n",
       "</style>\n",
       "<table border=\"1\" class=\"dataframe\">\n",
       "  <thead>\n",
       "    <tr style=\"text-align: right;\">\n",
       "      <th></th>\n",
       "      <th>sourceid</th>\n",
       "      <th>dstid</th>\n",
       "      <th>month</th>\n",
       "      <th>mean_travel_time</th>\n",
       "      <th>standard_deviation_travel_time</th>\n",
       "      <th>geometric_mean_travel_time</th>\n",
       "      <th>geometric_standard_deviation_travel_time</th>\n",
       "      <th>year</th>\n",
       "    </tr>\n",
       "  </thead>\n",
       "  <tbody>\n",
       "    <tr>\n",
       "      <th>0</th>\n",
       "      <td>210</td>\n",
       "      <td>415</td>\n",
       "      <td>10</td>\n",
       "      <td>1857.75</td>\n",
       "      <td>818.52</td>\n",
       "      <td>1756.84</td>\n",
       "      <td>1.35</td>\n",
       "      <td>2017</td>\n",
       "    </tr>\n",
       "    <tr>\n",
       "      <th>1</th>\n",
       "      <td>351</td>\n",
       "      <td>16</td>\n",
       "      <td>10</td>\n",
       "      <td>1130.30</td>\n",
       "      <td>436.73</td>\n",
       "      <td>1072.17</td>\n",
       "      <td>1.35</td>\n",
       "      <td>2017</td>\n",
       "    </tr>\n",
       "    <tr>\n",
       "      <th>2</th>\n",
       "      <td>248</td>\n",
       "      <td>237</td>\n",
       "      <td>12</td>\n",
       "      <td>861.58</td>\n",
       "      <td>331.51</td>\n",
       "      <td>810.05</td>\n",
       "      <td>1.40</td>\n",
       "      <td>2017</td>\n",
       "    </tr>\n",
       "    <tr>\n",
       "      <th>3</th>\n",
       "      <td>353</td>\n",
       "      <td>375</td>\n",
       "      <td>12</td>\n",
       "      <td>1081.61</td>\n",
       "      <td>492.97</td>\n",
       "      <td>1008.97</td>\n",
       "      <td>1.43</td>\n",
       "      <td>2017</td>\n",
       "    </tr>\n",
       "    <tr>\n",
       "      <th>4</th>\n",
       "      <td>257</td>\n",
       "      <td>175</td>\n",
       "      <td>11</td>\n",
       "      <td>1979.68</td>\n",
       "      <td>582.71</td>\n",
       "      <td>1899.99</td>\n",
       "      <td>1.33</td>\n",
       "      <td>2017</td>\n",
       "    </tr>\n",
       "  </tbody>\n",
       "</table>\n",
       "</div>"
      ],
      "text/plain": [
       "   sourceid  dstid  month  mean_travel_time  standard_deviation_travel_time  \\\n",
       "0       210    415     10           1857.75                          818.52   \n",
       "1       351     16     10           1130.30                          436.73   \n",
       "2       248    237     12            861.58                          331.51   \n",
       "3       353    375     12           1081.61                          492.97   \n",
       "4       257    175     11           1979.68                          582.71   \n",
       "\n",
       "   geometric_mean_travel_time  geometric_standard_deviation_travel_time  year  \n",
       "0                     1756.84                                      1.35  2017  \n",
       "1                     1072.17                                      1.35  2017  \n",
       "2                      810.05                                      1.40  2017  \n",
       "3                     1008.97                                      1.43  2017  \n",
       "4                     1899.99                                      1.33  2017  "
      ]
     },
     "execution_count": 4,
     "metadata": {},
     "output_type": "execute_result"
    }
   ],
   "source": [
    "df.head()"
   ]
  },
  {
   "cell_type": "code",
   "execution_count": 5,
   "metadata": {},
   "outputs": [],
   "source": [
    "# Change date format, count a number of rides\n",
    "df1 = df[['month', 'year', 'dstid']].groupby(['year', 'month']).count().reset_index()\n",
    "months = {1:('01',31), 2:('02',28), 3:('03',31), 4:('04',30), 5:('05',31), 6:('06',30),\n",
    "          7:('07',31), 8:('08',31), 9:('09',30), 10:('10',31), 11:('11',30), 12:('12',31)}\n",
    "for ind, row in df1.iterrows():\n",
    "    df1.at[ind, 'mon'] = months[row['month']][0]\n",
    "    df1.at[ind, 'date'] = ''\n",
    "    df1.at[ind, 'uber_count'] = months[row['month']][1]\n",
    "df1['date'] = df1['year'].astype(str) + df1['mon']\n",
    "df1['uber_count'] = df1['dstid'] * df1['uber_count']\n",
    "df1 = df1.drop(df1.columns[[0, 1, 2, 3]], axis=1)"
   ]
  },
  {
   "cell_type": "code",
   "execution_count": 16,
   "metadata": {},
   "outputs": [],
   "source": [
    "# Export to csv\n",
    "df1.to_csv('uber_monthly.csv', index=False)"
   ]
  },
  {
   "cell_type": "code",
   "execution_count": 9,
   "metadata": {},
   "outputs": [
    {
     "data": {
      "text/html": [
       "<div>\n",
       "<style scoped>\n",
       "    .dataframe tbody tr th:only-of-type {\n",
       "        vertical-align: middle;\n",
       "    }\n",
       "\n",
       "    .dataframe tbody tr th {\n",
       "        vertical-align: top;\n",
       "    }\n",
       "\n",
       "    .dataframe thead th {\n",
       "        text-align: right;\n",
       "    }\n",
       "</style>\n",
       "<table border=\"1\" class=\"dataframe\">\n",
       "  <thead>\n",
       "    <tr style=\"text-align: right;\">\n",
       "      <th></th>\n",
       "      <th>date</th>\n",
       "      <th>uber_count</th>\n",
       "    </tr>\n",
       "  </thead>\n",
       "  <tbody>\n",
       "    <tr>\n",
       "      <th>0</th>\n",
       "      <td>201601</td>\n",
       "      <td>4336528.0</td>\n",
       "    </tr>\n",
       "    <tr>\n",
       "      <th>1</th>\n",
       "      <td>201602</td>\n",
       "      <td>4105444.0</td>\n",
       "    </tr>\n",
       "    <tr>\n",
       "      <th>2</th>\n",
       "      <td>201603</td>\n",
       "      <td>4731468.0</td>\n",
       "    </tr>\n",
       "    <tr>\n",
       "      <th>3</th>\n",
       "      <td>201604</td>\n",
       "      <td>4583160.0</td>\n",
       "    </tr>\n",
       "    <tr>\n",
       "      <th>4</th>\n",
       "      <td>201605</td>\n",
       "      <td>4918088.0</td>\n",
       "    </tr>\n",
       "  </tbody>\n",
       "</table>\n",
       "</div>"
      ],
      "text/plain": [
       "     date  uber_count\n",
       "0  201601   4336528.0\n",
       "1  201602   4105444.0\n",
       "2  201603   4731468.0\n",
       "3  201604   4583160.0\n",
       "4  201605   4918088.0"
      ]
     },
     "execution_count": 9,
     "metadata": {},
     "output_type": "execute_result"
    }
   ],
   "source": [
    "df1.head()"
   ]
  },
  {
   "cell_type": "code",
   "execution_count": 15,
   "metadata": {},
   "outputs": [
    {
     "data": {
      "text/plain": [
       "Text(0,0.5,'Average number of rides')"
      ]
     },
     "execution_count": 15,
     "metadata": {},
     "output_type": "execute_result"
    },
    {
     "data": {
      "image/png": "[encoded data removed]",
      "text/plain": [
       "<matplotlib.figure.Figure at 0x1a0c5ed240>"
      ]
     },
     "metadata": {},
     "output_type": "display_data"
    }
   ],
   "source": [
    "sns.pointplot(x='month', y='mean_travel_time', hue='year',\n",
    "            data=(df[['mean_travel_time', 'month', 'year']].groupby(['month', 'year']).count().reset_index()), ci=None, markers='.')\n",
    "plt.grid(True)\n",
    "plt.ylabel('Average number of rides')"
   ]
  },
  {
   "cell_type": "code",
   "execution_count": null,
   "metadata": {},
   "outputs": [],
   "source": []
  },
  {
   "cell_type": "code",
   "execution_count": null,
   "metadata": {},
   "outputs": [],
   "source": []
  }
 ],
 "metadata": {
  "kernelspec": {
   "display_name": "Python [default]",
   "language": "python",
   "name": "python3"
  },
  "language_info": {
   "codemirror_mode": {
    "name": "ipython",
    "version": 3
   },
   "file_extension": ".py",
   "mimetype": "text/x-python",
   "name": "python",
   "nbconvert_exporter": "python",
   "pygments_lexer": "ipython3",
   "version": "3.6.4"
  },
  "varInspector": {
   "cols": {
    "lenName": 16,
    "lenType": 16,
    "lenVar": 40
   },
   "kernels_config": {
    "python": {
     "delete_cmd_postfix": "",
     "delete_cmd_prefix": "del ",
     "library": "var_list.py",
     "varRefreshCmd": "print(var_dic_list())"
    },
    "r": {
     "delete_cmd_postfix": ") ",
     "delete_cmd_prefix": "rm(",
     "library": "var_list.r",
     "varRefreshCmd": "cat(var_dic_list()) "
    }
   },
   "types_to_exclude": [
    "module",
    "function",
    "builtin_function_or_method",
    "instance",
    "_Feature"
   ],
   "window_display": false
  }
 },
 "nbformat": 4,
 "nbformat_minor": 2
}
