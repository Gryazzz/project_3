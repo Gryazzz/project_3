{
 "cells": [
  {
   "cell_type": "code",
   "execution_count": 1,
   "metadata": {},
   "outputs": [],
   "source": [
    "import pandas as pd\n",
    "import glob\n",
    "from matplotlib import pyplot as plt\n",
    "import seaborn as sns"
   ]
  },
  {
   "cell_type": "code",
   "execution_count": 2,
   "metadata": {},
   "outputs": [],
   "source": [
    "path = glob.glob('raw_data/2016/monthly_weekend/*.csv')\n",
    "names = path[0].split('/')\n",
    "#months_list = ['jan-mar', 'apr-jun', 'jul-sep', 'oct-dec']\n",
    "df = pd.DataFrame()\n",
    "df.name = (f'{names[2]}_{names[1]}')"
   ]
  },
  {
   "cell_type": "code",
   "execution_count": 3,
   "metadata": {},
   "outputs": [],
   "source": [
    "x = 0\n",
    "for filepath in path:\n",
    "    readfile = pd.read_csv(filepath)\n",
    "    df_x = pd.DataFrame(readfile)\n",
    "    #df_x['month'] = months_list[x]\n",
    "    df_x['year'] = names[1]\n",
    "    df = df.append(df_x, ignore_index=True)\n",
    "    x += 1"
   ]
  },
  {
   "cell_type": "code",
   "execution_count": 4,
   "metadata": {},
   "outputs": [
    {
     "data": {
      "text/html": [
       "<div>\n",
       "<style scoped>\n",
       "    .dataframe tbody tr th:only-of-type {\n",
       "        vertical-align: middle;\n",
       "    }\n",
       "\n",
       "    .dataframe tbody tr th {\n",
       "        vertical-align: top;\n",
       "    }\n",
       "\n",
       "    .dataframe thead th {\n",
       "        text-align: right;\n",
       "    }\n",
       "</style>\n",
       "<table border=\"1\" class=\"dataframe\">\n",
       "  <thead>\n",
       "    <tr style=\"text-align: right;\">\n",
       "      <th></th>\n",
       "      <th>sourceid</th>\n",
       "      <th>dstid</th>\n",
       "      <th>month</th>\n",
       "      <th>mean_travel_time</th>\n",
       "      <th>standard_deviation_travel_time</th>\n",
       "      <th>geometric_mean_travel_time</th>\n",
       "      <th>geometric_standard_deviation_travel_time</th>\n",
       "      <th>year</th>\n",
       "    </tr>\n",
       "  </thead>\n",
       "  <tbody>\n",
       "    <tr>\n",
       "      <th>0</th>\n",
       "      <td>67</td>\n",
       "      <td>104</td>\n",
       "      <td>10</td>\n",
       "      <td>1658.30</td>\n",
       "      <td>446.37</td>\n",
       "      <td>1607.85</td>\n",
       "      <td>1.27</td>\n",
       "      <td>2016</td>\n",
       "    </tr>\n",
       "    <tr>\n",
       "      <th>1</th>\n",
       "      <td>435</td>\n",
       "      <td>154</td>\n",
       "      <td>11</td>\n",
       "      <td>1334.46</td>\n",
       "      <td>486.85</td>\n",
       "      <td>1272.07</td>\n",
       "      <td>1.34</td>\n",
       "      <td>2016</td>\n",
       "    </tr>\n",
       "    <tr>\n",
       "      <th>2</th>\n",
       "      <td>244</td>\n",
       "      <td>107</td>\n",
       "      <td>10</td>\n",
       "      <td>607.94</td>\n",
       "      <td>297.06</td>\n",
       "      <td>554.15</td>\n",
       "      <td>1.53</td>\n",
       "      <td>2016</td>\n",
       "    </tr>\n",
       "    <tr>\n",
       "      <th>3</th>\n",
       "      <td>387</td>\n",
       "      <td>326</td>\n",
       "      <td>10</td>\n",
       "      <td>1016.50</td>\n",
       "      <td>468.68</td>\n",
       "      <td>933.05</td>\n",
       "      <td>1.50</td>\n",
       "      <td>2016</td>\n",
       "    </tr>\n",
       "    <tr>\n",
       "      <th>4</th>\n",
       "      <td>419</td>\n",
       "      <td>466</td>\n",
       "      <td>11</td>\n",
       "      <td>1040.00</td>\n",
       "      <td>321.99</td>\n",
       "      <td>986.33</td>\n",
       "      <td>1.41</td>\n",
       "      <td>2016</td>\n",
       "    </tr>\n",
       "  </tbody>\n",
       "</table>\n",
       "</div>"
      ],
      "text/plain": [
       "   sourceid  dstid  month  mean_travel_time  standard_deviation_travel_time  \\\n",
       "0        67    104     10           1658.30                          446.37   \n",
       "1       435    154     11           1334.46                          486.85   \n",
       "2       244    107     10            607.94                          297.06   \n",
       "3       387    326     10           1016.50                          468.68   \n",
       "4       419    466     11           1040.00                          321.99   \n",
       "\n",
       "   geometric_mean_travel_time  geometric_standard_deviation_travel_time  year  \n",
       "0                     1607.85                                      1.27  2016  \n",
       "1                     1272.07                                      1.34  2016  \n",
       "2                      554.15                                      1.53  2016  \n",
       "3                      933.05                                      1.50  2016  \n",
       "4                      986.33                                      1.41  2016  "
      ]
     },
     "execution_count": 4,
     "metadata": {},
     "output_type": "execute_result"
    }
   ],
   "source": [
    "df.head()"
   ]
  },
  {
   "cell_type": "code",
   "execution_count": 5,
   "metadata": {},
   "outputs": [],
   "source": [
    "geodata = {}\n",
    "geo = pd.read_json('raw_data/washington_DC_censustracts.json')\n",
    "for item in geo['features']:\n",
    "    mid = int(item['properties']['MOVEMENT_ID'])\n",
    "    address = item['properties']['DISPLAY_NAME']\n",
    "    coord = item['geometry']['coordinates'][0][0][0]\n",
    "    #lon = item['geometry']['coordinates'][0][0][0][0]\n",
    "    geodata[mid] = (address, *coord)"
   ]
  },
  {
   "cell_type": "code",
   "execution_count": null,
   "metadata": {},
   "outputs": [],
   "source": [
    "for ind, row in df.iterrows():\n",
    "\n",
    "    df.at[ind, 'departure'] = geodata[row['sourceid']][0]\n",
    "    df.at[ind, 'destination'] = geodata[row['dstid']][0]\n",
    "    df.at[ind, 'coord_dep'] = (f'{geodata[row[\"sourceid\"]][2]}, {geodata[row[\"sourceid\"]][1]}')\n",
    "    df.at[ind, 'coord_dest'] = (f'{geodata[row[\"dstid\"]][2]}, {geodata[row[\"dstid\"]][1]}')\n",
    "    "
   ]
  },
  {
   "cell_type": "code",
   "execution_count": 6,
   "metadata": {},
   "outputs": [
    {
     "data": {
      "text/plain": [
       "<matplotlib.axes._subplots.AxesSubplot at 0x1a124705c0>"
      ]
     },
     "execution_count": 6,
     "metadata": {},
     "output_type": "execute_result"
    },
    {
     "data": {
      "image/png": "[encoded data removed]",
      "text/plain": [
       "<matplotlib.figure.Figure at 0x1a124706d8>"
      ]
     },
     "metadata": {},
     "output_type": "display_data"
    }
   ],
   "source": [
    "# Visualization of a mean travel time by hour\n",
    "sns.barplot(x='month', y='mean_travel_time',\n",
    "            data=(df[['mean_travel_time', 'month']].sample(frac=1)), ci=None)"
   ]
  },
  {
   "cell_type": "code",
   "execution_count": 7,
   "metadata": {},
   "outputs": [
    {
     "data": {
      "text/plain": [
       "<matplotlib.axes._subplots.AxesSubplot at 0x1a1288b470>"
      ]
     },
     "execution_count": 7,
     "metadata": {},
     "output_type": "execute_result"
    },
    {
     "data": {
      "image/png": "[encoded data removed]",
      "text/plain": [
       "<matplotlib.figure.Figure at 0x1a1641c160>"
      ]
     },
     "metadata": {},
     "output_type": "display_data"
    }
   ],
   "source": [
    "# Visualization of the number of rides by hour\n",
    "sns.barplot(x='month', y='mean_travel_time',\n",
    "                data=(df[['mean_travel_time', 'month']].groupby(['month']).count().reset_index()),\n",
    "                ci=None)"
   ]
  },
  {
   "cell_type": "code",
   "execution_count": null,
   "metadata": {},
   "outputs": [],
   "source": []
  }
 ],
 "metadata": {
  "kernelspec": {
   "display_name": "Python 3",
   "language": "python",
   "name": "python3"
  },
  "language_info": {
   "codemirror_mode": {
    "name": "ipython",
    "version": 3
   },
   "file_extension": ".py",
   "mimetype": "text/x-python",
   "name": "python",
   "nbconvert_exporter": "python",
   "pygments_lexer": "ipython3",
   "version": "3.6.4"
  }
 },
 "nbformat": 4,
 "nbformat_minor": 2
}
