{
 "cells": [
  {
   "cell_type": "code",
   "execution_count": 1,
   "metadata": {},
   "outputs": [],
   "source": [
    "import pandas as pd\n",
    "import glob\n",
    "from matplotlib import pyplot as plt\n",
    "import seaborn as sns"
   ]
  },
  {
   "cell_type": "code",
   "execution_count": 2,
   "metadata": {},
   "outputs": [],
   "source": [
    "path = glob.glob('raw_data/2016/monthly_weekday/*.csv')\n",
    "names = path[0].split('/')\n",
    "#months_list = ['jan-mar', 'apr-jun', 'jul-sep', 'oct-dec']\n",
    "df = pd.DataFrame()\n",
    "df.name = (f'{names[2]}_{names[1]}')"
   ]
  },
  {
   "cell_type": "code",
   "execution_count": 3,
   "metadata": {},
   "outputs": [],
   "source": [
    "x = 0\n",
    "for filepath in path:\n",
    "    readfile = pd.read_csv(filepath)\n",
    "    df_x = pd.DataFrame(readfile)\n",
    "    #df_x['month'] = months_list[x]\n",
    "    df_x['year'] = names[1]\n",
    "    df = df.append(df_x, ignore_index=True)\n",
    "    x += 1"
   ]
  },
  {
   "cell_type": "code",
   "execution_count": 4,
   "metadata": {},
   "outputs": [
    {
     "data": {
      "text/html": [
       "<div>\n",
       "<style scoped>\n",
       "    .dataframe tbody tr th:only-of-type {\n",
       "        vertical-align: middle;\n",
       "    }\n",
       "\n",
       "    .dataframe tbody tr th {\n",
       "        vertical-align: top;\n",
       "    }\n",
       "\n",
       "    .dataframe thead th {\n",
       "        text-align: right;\n",
       "    }\n",
       "</style>\n",
       "<table border=\"1\" class=\"dataframe\">\n",
       "  <thead>\n",
       "    <tr style=\"text-align: right;\">\n",
       "      <th></th>\n",
       "      <th>sourceid</th>\n",
       "      <th>dstid</th>\n",
       "      <th>month</th>\n",
       "      <th>mean_travel_time</th>\n",
       "      <th>standard_deviation_travel_time</th>\n",
       "      <th>geometric_mean_travel_time</th>\n",
       "      <th>geometric_standard_deviation_travel_time</th>\n",
       "      <th>year</th>\n",
       "    </tr>\n",
       "  </thead>\n",
       "  <tbody>\n",
       "    <tr>\n",
       "      <th>0</th>\n",
       "      <td>361</td>\n",
       "      <td>57</td>\n",
       "      <td>10</td>\n",
       "      <td>1580.15</td>\n",
       "      <td>506.34</td>\n",
       "      <td>1503.60</td>\n",
       "      <td>1.37</td>\n",
       "      <td>2016</td>\n",
       "    </tr>\n",
       "    <tr>\n",
       "      <th>1</th>\n",
       "      <td>216</td>\n",
       "      <td>407</td>\n",
       "      <td>12</td>\n",
       "      <td>1427.96</td>\n",
       "      <td>597.61</td>\n",
       "      <td>1335.90</td>\n",
       "      <td>1.41</td>\n",
       "      <td>2016</td>\n",
       "    </tr>\n",
       "    <tr>\n",
       "      <th>2</th>\n",
       "      <td>435</td>\n",
       "      <td>154</td>\n",
       "      <td>11</td>\n",
       "      <td>1568.84</td>\n",
       "      <td>554.01</td>\n",
       "      <td>1482.26</td>\n",
       "      <td>1.39</td>\n",
       "      <td>2016</td>\n",
       "    </tr>\n",
       "    <tr>\n",
       "      <th>3</th>\n",
       "      <td>464</td>\n",
       "      <td>512</td>\n",
       "      <td>12</td>\n",
       "      <td>979.27</td>\n",
       "      <td>408.89</td>\n",
       "      <td>927.66</td>\n",
       "      <td>1.36</td>\n",
       "      <td>2016</td>\n",
       "    </tr>\n",
       "    <tr>\n",
       "      <th>4</th>\n",
       "      <td>394</td>\n",
       "      <td>256</td>\n",
       "      <td>10</td>\n",
       "      <td>2171.50</td>\n",
       "      <td>651.06</td>\n",
       "      <td>2072.18</td>\n",
       "      <td>1.37</td>\n",
       "      <td>2016</td>\n",
       "    </tr>\n",
       "  </tbody>\n",
       "</table>\n",
       "</div>"
      ],
      "text/plain": [
       "   sourceid  dstid  month  mean_travel_time  standard_deviation_travel_time  \\\n",
       "0       361     57     10           1580.15                          506.34   \n",
       "1       216    407     12           1427.96                          597.61   \n",
       "2       435    154     11           1568.84                          554.01   \n",
       "3       464    512     12            979.27                          408.89   \n",
       "4       394    256     10           2171.50                          651.06   \n",
       "\n",
       "   geometric_mean_travel_time  geometric_standard_deviation_travel_time  year  \n",
       "0                     1503.60                                      1.37  2016  \n",
       "1                     1335.90                                      1.41  2016  \n",
       "2                     1482.26                                      1.39  2016  \n",
       "3                      927.66                                      1.36  2016  \n",
       "4                     2072.18                                      1.37  2016  "
      ]
     },
     "execution_count": 4,
     "metadata": {},
     "output_type": "execute_result"
    }
   ],
   "source": [
    "df.head()"
   ]
  },
  {
   "cell_type": "code",
   "execution_count": 5,
   "metadata": {},
   "outputs": [],
   "source": [
    "geodata = {}\n",
    "geo = pd.read_json('raw_data/washington_DC_censustracts.json')\n",
    "for item in geo['features']:\n",
    "    mid = int(item['properties']['MOVEMENT_ID'])\n",
    "    address = item['properties']['DISPLAY_NAME']\n",
    "    coord = item['geometry']['coordinates'][0][0][0]\n",
    "    #lon = item['geometry']['coordinates'][0][0][0][0]\n",
    "    geodata[mid] = (address, *coord)"
   ]
  },
  {
   "cell_type": "code",
   "execution_count": null,
   "metadata": {},
   "outputs": [],
   "source": [
    "format((geodata[361][2]), '.10f')"
   ]
  },
  {
   "cell_type": "code",
   "execution_count": 7,
   "metadata": {},
   "outputs": [],
   "source": [
    "for ind, row in df.iterrows():\n",
    "\n",
    "    #df.at[ind, 'departure'] = geodata[row['sourceid']][0]\n",
    "    #df.at[ind, 'destination'] = geodata[row['dstid']][0]\n",
    "    df.at[ind, 'dep_lat'] = format(geodata[row['sourceid']][2], '.6f')\n",
    "    df.at[ind, 'dep_lon'] = format(geodata[row['sourceid']][1], '.6f')\n",
    "    df.at[ind, 'dest_lat'] = format(geodata[row['dstid']][2], '.6f')\n",
    "    df.at[ind, 'dest_lon'] = format(geodata[row['dstid']][1], '.6f')\n",
    "    #df.at[ind, 'coord_dest'] = (f'{geodata[row[\"dstid\"]][2]}, {geodata[row[\"dstid\"]][1]}')\n",
    "    "
   ]
  },
  {
   "cell_type": "code",
   "execution_count": 19,
   "metadata": {},
   "outputs": [
    {
     "data": {
      "text/plain": [
       "sourceid                                    1953728\n",
       "dstid                                       1953728\n",
       "month                                       1953728\n",
       "mean_travel_time                            1953728\n",
       "standard_deviation_travel_time              1953728\n",
       "geometric_mean_travel_time                  1953728\n",
       "geometric_standard_deviation_travel_time    1953728\n",
       "year                                        1953728\n",
       "dep_lat                                     1953728\n",
       "dep_lon                                     1953728\n",
       "dest_lat                                    1953728\n",
       "dest_lon                                    1953728\n",
       "dtype: int64"
      ]
     },
     "execution_count": 19,
     "metadata": {},
     "output_type": "execute_result"
    }
   ],
   "source": [
    "df.count()"
   ]
  },
  {
   "cell_type": "code",
   "execution_count": 9,
   "metadata": {},
   "outputs": [
    {
     "data": {
      "text/plain": [
       "<matplotlib.axes._subplots.AxesSubplot at 0x1198e9e48>"
      ]
     },
     "execution_count": 9,
     "metadata": {},
     "output_type": "execute_result"
    },
    {
     "data": {
      "image/png": "[encoded data removed]",
      "text/plain": [
       "<matplotlib.figure.Figure at 0x1198e9630>"
      ]
     },
     "metadata": {},
     "output_type": "display_data"
    }
   ],
   "source": [
    "# Visualization of a mean travel time by hour\n",
    "sns.barplot(x='month', y='mean_travel_time',\n",
    "            data=(df[['mean_travel_time', 'month']].sample(frac=1)), ci=None)"
   ]
  },
  {
   "cell_type": "code",
   "execution_count": 10,
   "metadata": {},
   "outputs": [
    {
     "data": {
      "text/plain": [
       "<matplotlib.axes._subplots.AxesSubplot at 0x1a72095e80>"
      ]
     },
     "execution_count": 10,
     "metadata": {},
     "output_type": "execute_result"
    },
    {
     "data": {
      "image/png": "[encoded data removed]",
      "text/plain": [
       "<matplotlib.figure.Figure at 0x1a720dfcf8>"
      ]
     },
     "metadata": {},
     "output_type": "display_data"
    }
   ],
   "source": [
    "# Visualization of the number of rides by hour\n",
    "sns.barplot(x='month', y='mean_travel_time',\n",
    "                data=(df[['mean_travel_time', 'month']].groupby(['month']).count().reset_index()),\n",
    "                ci=None)"
   ]
  },
  {
   "cell_type": "code",
   "execution_count": null,
   "metadata": {},
   "outputs": [],
   "source": []
  },
  {
   "cell_type": "code",
   "execution_count": 23,
   "metadata": {},
   "outputs": [
    {
     "data": {
      "text/plain": [
       "<matplotlib.legend.Legend at 0x1a329d2780>"
      ]
     },
     "execution_count": 23,
     "metadata": {},
     "output_type": "execute_result"
    },
    {
     "data": {
      "image/png": "[encoded data removed]",
      "text/plain": [
       "<matplotlib.figure.Figure at 0x1a30d1cdd8>"
      ]
     },
     "metadata": {},
     "output_type": "display_data"
    }
   ],
   "source": [
    "# Departure points\n",
    "fig, ax = plt.subplots()\n",
    "fig.set_size_inches(10,7)\n",
    "ax.scatter(x=pd.to_numeric(df['dep_lon']), y=pd.to_numeric(df['dep_lat']), data=df, marker = '.', color = 'g')\n",
    "ax.scatter(x=pd.to_numeric(df['dest_lon']), y=pd.to_numeric(df['dest_lat']), data=df, marker = '.', color = 'r')\n",
    "ax.legend(loc='best')"
   ]
  },
  {
   "cell_type": "code",
   "execution_count": 14,
   "metadata": {},
   "outputs": [
    {
     "data": {
      "text/plain": [
       "<matplotlib.collections.PathCollection at 0x1a327832b0>"
      ]
     },
     "execution_count": 14,
     "metadata": {},
     "output_type": "execute_result"
    },
    {
     "data": {
      "image/png": "[encoded data removed]",
      "text/plain": [
       "<matplotlib.figure.Figure at 0x1a327aa9b0>"
      ]
     },
     "metadata": {},
     "output_type": "display_data"
    }
   ],
   "source": [
    "# Destination points\n",
    "plt.scatter(x=pd.to_numeric(df['dest_lon']), y=pd.to_numeric(df['dest_lat']), marker = '.', color = 'red')"
   ]
  },
  {
   "cell_type": "code",
   "execution_count": null,
   "metadata": {},
   "outputs": [],
   "source": []
  }
 ],
 "metadata": {
  "kernelspec": {
   "display_name": "Python 3",
   "language": "python",
   "name": "python3"
  },
  "language_info": {
   "codemirror_mode": {
    "name": "ipython",
    "version": 3
   },
   "file_extension": ".py",
   "mimetype": "text/x-python",
   "name": "python",
   "nbconvert_exporter": "python",
   "pygments_lexer": "ipython3",
   "version": "3.6.4"
  }
 },
 "nbformat": 4,
 "nbformat_minor": 2
}
