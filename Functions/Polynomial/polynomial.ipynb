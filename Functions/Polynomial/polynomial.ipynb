{
 "cells": [
  {
   "cell_type": "code",
   "execution_count": 2,
   "metadata": {},
   "outputs": [],
   "source": [
    "def getPoly(X, Y, degree):\n",
    "    '''\n",
    "    Calculates least squares polynomial fit of 'degree' of the fitting polynomial\n",
    "    \n",
    "    Parameters\n",
    "    ----------\n",
    "    X : `pd.datetime` array-like\n",
    "    Y :  array-like of X size\n",
    "    \n",
    "    Returns\n",
    "    -------\n",
    "    p : `numpy.lib.polynomial.poly1d` object\n",
    "    '''\n",
    "    import numpy as np\n",
    "    import warnings\n",
    "    warnings.simplefilter('ignore', np.RankWarning)\n",
    "    import matplotlib.dates as mdates\n",
    "    \n",
    "    #convert dates to num values for poly function\n",
    "    X_num = mdates.date2num(X)\n",
    "    \n",
    "    #calculate Polynomial coefficients, highest power first\n",
    "    #ndarray, shape (deg + 1,) or (deg + 1, K)\n",
    "    coefs = np.polyfit(X_num, Y, degree)\n",
    "\n",
    "    #Construct the polynomial\n",
    "    p = np.poly1d(coefs)\n",
    "    \n",
    "    return p"
   ]
  },
  {
   "cell_type": "code",
   "execution_count": 3,
   "metadata": {},
   "outputs": [],
   "source": [
    "def plotPoly(X, Y, p, show=True):\n",
    "    '''\n",
    "    Creates a Polynomial plot\n",
    "    \n",
    "    Parameters\n",
    "    ----------\n",
    "    X : `pd.datetime` array-like\n",
    "    Y :  array-like of X size\n",
    "    p : `numpy.lib.polynomial.poly1d` object\n",
    "    \n",
    "    Returns\n",
    "    -------\n",
    "    f : `matplotlib.figure.Figure`\n",
    "    '''\n",
    "    import matplotlib.pyplot as plt\n",
    "    import matplotlib.dates as mdates\n",
    "    \n",
    "    #buld the plot\n",
    "    plt.style.use('fivethirtyeight')\n",
    "    f = plt.figure(figsize=(20,10))\n",
    "    \n",
    "    #convert dates to num values for poly function\n",
    "    X_num = mdates.date2num(X)\n",
    "    \n",
    "    plt.plot(X, Y, label='Actual Ridership')\n",
    "    plt.plot(X, p(X_num), \"r-\", label='Regression Model') #p(X) evaluates the polynomial at X\n",
    "    \n",
    "    plt.title('Polynomial Regression', weight='bold')\n",
    "    plt.ylabel('Ridership, trips')\n",
    "    plt.xlabel('Time')\n",
    "    plt.legend()\n",
    "    \n",
    "    if show:\n",
    "        plt.show()\n",
    "    else:\n",
    "        plt.close(f)\n",
    "    return f"
   ]
  }
 ],
 "metadata": {
  "kernelspec": {
   "display_name": "Python [conda env:PythonData]",
   "language": "python",
   "name": "conda-env-PythonData-py"
  },
  "language_info": {
   "codemirror_mode": {
    "name": "ipython",
    "version": 3
   },
   "file_extension": ".py",
   "mimetype": "text/x-python",
   "name": "python",
   "nbconvert_exporter": "python",
   "pygments_lexer": "ipython3",
   "version": "3.6.5"
  },
  "varInspector": {
   "cols": {
    "lenName": 16,
    "lenType": 16,
    "lenVar": 40
   },
   "kernels_config": {
    "python": {
     "delete_cmd_postfix": "",
     "delete_cmd_prefix": "del ",
     "library": "var_list.py",
     "varRefreshCmd": "print(var_dic_list())"
    },
    "r": {
     "delete_cmd_postfix": ") ",
     "delete_cmd_prefix": "rm(",
     "library": "var_list.r",
     "varRefreshCmd": "cat(var_dic_list()) "
    }
   },
   "types_to_exclude": [
    "module",
    "function",
    "builtin_function_or_method",
    "instance",
    "_Feature"
   ],
   "window_display": false
  }
 },
 "nbformat": 4,
 "nbformat_minor": 2
}
