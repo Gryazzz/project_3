{
 "cells": [
  {
   "cell_type": "code",
   "execution_count": 4,
   "metadata": {},
   "outputs": [],
   "source": [
    "import pandas as pd\n",
    "#from scipy import stats\n",
    "#import numpy as np\n",
    "#import statsmodels.formula.api as smf\n",
    "#import statsmodels.api as sm\n"
   ]
  },
  {
   "cell_type": "code",
   "execution_count": null,
   "metadata": {},
   "outputs": [],
   "source": []
  },
  {
   "cell_type": "code",
   "execution_count": 5,
   "metadata": {},
   "outputs": [
    {
     "data": {
      "text/html": [
       "<div>\n",
       "<style scoped>\n",
       "    .dataframe tbody tr th:only-of-type {\n",
       "        vertical-align: middle;\n",
       "    }\n",
       "\n",
       "    .dataframe tbody tr th {\n",
       "        vertical-align: top;\n",
       "    }\n",
       "\n",
       "    .dataframe thead th {\n",
       "        text-align: right;\n",
       "    }\n",
       "</style>\n",
       "<table border=\"1\" class=\"dataframe\">\n",
       "  <thead>\n",
       "    <tr style=\"text-align: right;\">\n",
       "      <th></th>\n",
       "      <th>Bus</th>\n",
       "      <th>Ridership</th>\n",
       "      <th>Taxi</th>\n",
       "      <th>Uber</th>\n",
       "    </tr>\n",
       "  </thead>\n",
       "  <tbody>\n",
       "    <tr>\n",
       "      <th>0</th>\n",
       "      <td>NaN</td>\n",
       "      <td>21082553.0</td>\n",
       "      <td>NaN</td>\n",
       "      <td>NaN</td>\n",
       "    </tr>\n",
       "    <tr>\n",
       "      <th>1</th>\n",
       "      <td>NaN</td>\n",
       "      <td>21228262.0</td>\n",
       "      <td>NaN</td>\n",
       "      <td>NaN</td>\n",
       "    </tr>\n",
       "    <tr>\n",
       "      <th>2</th>\n",
       "      <td>NaN</td>\n",
       "      <td>26170157.0</td>\n",
       "      <td>NaN</td>\n",
       "      <td>NaN</td>\n",
       "    </tr>\n",
       "    <tr>\n",
       "      <th>3</th>\n",
       "      <td>NaN</td>\n",
       "      <td>25656797.0</td>\n",
       "      <td>NaN</td>\n",
       "      <td>NaN</td>\n",
       "    </tr>\n",
       "    <tr>\n",
       "      <th>4</th>\n",
       "      <td>NaN</td>\n",
       "      <td>24342603.0</td>\n",
       "      <td>NaN</td>\n",
       "      <td>NaN</td>\n",
       "    </tr>\n",
       "  </tbody>\n",
       "</table>\n",
       "</div>"
      ],
      "text/plain": [
       "   Bus   Ridership  Taxi  Uber\n",
       "0  NaN  21082553.0   NaN   NaN\n",
       "1  NaN  21228262.0   NaN   NaN\n",
       "2  NaN  26170157.0   NaN   NaN\n",
       "3  NaN  25656797.0   NaN   NaN\n",
       "4  NaN  24342603.0   NaN   NaN"
      ]
     },
     "execution_count": 5,
     "metadata": {},
     "output_type": "execute_result"
    }
   ],
   "source": [
    "# For testing only\n",
    "df = pd.DataFrame(pd.read_csv('../combined.csv'))\n",
    "\n",
    "df = df.drop(['Date'], axis=1)\n",
    "y = 1\n",
    "df.head()"
   ]
  },
  {
   "cell_type": "code",
   "execution_count": 6,
   "metadata": {},
   "outputs": [],
   "source": [
    "def linear_regression(df, y):\n",
    "    \n",
    "    '''All date columns should be in a datetime format (datetime64[ns])\n",
    "    dependent variable (y) is column index in df (integer)'''\n",
    "    \n",
    "    import pandas as pd\n",
    "    import numpy as np\n",
    "    import statsmodels.api as sm\n",
    "    \n",
    "    # Drop all NaNs\n",
    "    df = df.copy()\n",
    "    df = df.dropna(axis=0, how='any')\n",
    "    \n",
    "    # Only for tests:\n",
    "    #df['Date'] = pd.to_datetime(df['Date'])\n",
    "    \n",
    "    # Check if there is a datetime object and convert in days\n",
    "    for column in df.columns:\n",
    "        if df[column].dtype == 'datetime64[ns]':\n",
    "            df['delta'] = (df[column] - df[column].min()).astype('timedelta64[D]')\n",
    "            df = df.drop([column], axis=1)\n",
    "    \n",
    "    # Define a dependent column name\n",
    "    dependent_name = df.columns[y]\n",
    "    \n",
    "    # Define independent column(s) name(s)\n",
    "    features = [column for column in df]\n",
    "    independent = [feature for feature in features if feature != dependent_name]\n",
    "    \n",
    "    # Create a model\n",
    "    y = df[dependent_name]\n",
    "    X = df[independent]\n",
    "    X = sm.add_constant(X)\n",
    "    model = sm.OLS(y, X).fit()\n",
    "    \n",
    "    # Extract coeff\n",
    "    r2 = model.rsquared\n",
    "    \n",
    "    df1 = pd.Series(model.pvalues).reset_index().drop(['index'], axis=1)\n",
    "    pval = df1[0].tolist()\n",
    "    pval.pop(0)\n",
    "    \n",
    "    coeff = (r2, *pval)\n",
    "    \n",
    "    '''Returns a tuple: R_squared, p_value for each of the independent variable in the same order\n",
    "        as they appear in the df'''\n",
    "    \n",
    "    return coeff\n",
    "    "
   ]
  },
  {
   "cell_type": "code",
   "execution_count": 8,
   "metadata": {},
   "outputs": [
    {
     "data": {
      "text/plain": [
       "(0.797687456147994,\n",
       " 0.43368141337412636,\n",
       " 1.0275123831504723e-05,\n",
       " 0.07064136733031898)"
      ]
     },
     "execution_count": 8,
     "metadata": {},
     "output_type": "execute_result"
    }
   ],
   "source": [
    "linear_regression(df, y)"
   ]
  },
  {
   "cell_type": "code",
   "execution_count": null,
   "metadata": {},
   "outputs": [],
   "source": []
  }
 ],
 "metadata": {
  "kernelspec": {
   "display_name": "Python 3",
   "language": "python",
   "name": "python3"
  },
  "language_info": {
   "codemirror_mode": {
    "name": "ipython",
    "version": 3
   },
   "file_extension": ".py",
   "mimetype": "text/x-python",
   "name": "python",
   "nbconvert_exporter": "python",
   "pygments_lexer": "ipython3",
   "version": "3.6.4"
  }
 },
 "nbformat": 4,
 "nbformat_minor": 2
}
