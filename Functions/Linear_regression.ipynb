{
 "cells": [
  {
   "cell_type": "code",
   "execution_count": null,
   "metadata": {},
   "outputs": [],
   "source": [
    "def linear_regression(df, y):\n",
    "    \n",
    "    '''Function for single and multivariable regression:\n",
    "        All Date objects should be in a datetime pd format (datetime64[ns]) (pd.to_datetime(df[date_column])).\n",
    "        -------------------\n",
    "        Attributes:\n",
    "        df: a dataframe with at least 2 columns.\n",
    "        y: an index of the dependent variable column (integer).\n",
    "        -------------------\n",
    "        Returns a tuple: \n",
    "        1. R_squared\n",
    "        2. p_value for each of the independent variable in the same order as they appear in the df.\n",
    "        \n",
    "        Datetime objects are converted into Days. '''\n",
    "    \n",
    "    import pandas as pd\n",
    "    import numpy as np\n",
    "    import statsmodels.api as sm\n",
    "    \n",
    "    # Drop all NaNs\n",
    "    df = df.copy()\n",
    "    df = df.dropna(axis=0, how='any')\n",
    "    \n",
    "    # Only for tests:\n",
    "    #df['Date'] = pd.to_datetime(df['Date'])\n",
    "    \n",
    "    # Check if there is a datetime object and convert in days\n",
    "    for column in df.columns:\n",
    "        if df[column].dtype == 'datetime64[ns]':\n",
    "            df['delta'] = (df[column] - df[column].min()).astype('timedelta64[D]')\n",
    "            df[column] = df['delta']\n",
    "            df = df.drop(['delta'], axis=1)\n",
    "    \n",
    "    # Define a dependent column name\n",
    "    dependent_name = df.columns[y]\n",
    "    \n",
    "    # Define independent column(s) name(s)\n",
    "    features = [column for column in df]\n",
    "    independent = [feature for feature in features if feature != dependent_name]\n",
    "    \n",
    "    # Create a model\n",
    "    y = df[dependent_name]\n",
    "    X = df[independent]\n",
    "    X = sm.add_constant(X)\n",
    "    model = sm.OLS(y, X).fit()\n",
    "    \n",
    "    # Extract coeff\n",
    "    r2 = model.rsquared\n",
    "    \n",
    "    df1 = pd.Series(model.pvalues).reset_index().drop(['index'], axis=1)\n",
    "    pval = df1[0].tolist()\n",
    "    pval.pop(0)\n",
    "    \n",
    "    coeff = (r2, *pval)\n",
    "    \n",
    "    return coeff\n",
    "    "
   ]
  }
 ],
 "metadata": {
  "kernelspec": {
   "display_name": "Python [default]",
   "language": "python",
   "name": "python3"
  },
  "language_info": {
   "codemirror_mode": {
    "name": "ipython",
    "version": 3
   },
   "file_extension": ".py",
   "mimetype": "text/x-python",
   "name": "python",
   "nbconvert_exporter": "python",
   "pygments_lexer": "ipython3",
   "version": "3.6.4"
  },
  "varInspector": {
   "cols": {
    "lenName": 16,
    "lenType": 16,
    "lenVar": 40
   },
   "kernels_config": {
    "python": {
     "delete_cmd_postfix": "",
     "delete_cmd_prefix": "del ",
     "library": "var_list.py",
     "varRefreshCmd": "print(var_dic_list())"
    },
    "r": {
     "delete_cmd_postfix": ") ",
     "delete_cmd_prefix": "rm(",
     "library": "var_list.r",
     "varRefreshCmd": "cat(var_dic_list()) "
    }
   },
   "types_to_exclude": [
    "module",
    "function",
    "builtin_function_or_method",
    "instance",
    "_Feature"
   ],
   "window_display": false
  }
 },
 "nbformat": 4,
 "nbformat_minor": 2
}
