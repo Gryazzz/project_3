{
 "cells": [
  {
   "cell_type": "code",
   "execution_count": 242,
   "metadata": {},
   "outputs": [],
   "source": [
    "import pandas as pd\n",
    "from scipy import stats\n",
    "import numpy as np\n",
    "#import statsmodels.formula.api as smf\n",
    "import statsmodels.api as sm\n"
   ]
  },
  {
   "cell_type": "code",
   "execution_count": null,
   "metadata": {},
   "outputs": [],
   "source": [
    "'''All date columns should be in a datetime format (datetime64[ns])\n",
    "    dependent variable is column index in df'''"
   ]
  },
  {
   "cell_type": "code",
   "execution_count": 247,
   "metadata": {},
   "outputs": [],
   "source": [
    "ind = 1"
   ]
  },
  {
   "cell_type": "code",
   "execution_count": 254,
   "metadata": {},
   "outputs": [
    {
     "name": "stdout",
     "output_type": "stream",
     "text": [
      "Bus          float64\n",
      "Ridership    float64\n",
      "Taxi         float64\n",
      "Uber         float64\n",
      "delta        float64\n",
      "dtype: object\n"
     ]
    },
    {
     "data": {
      "text/html": [
       "<div>\n",
       "<style scoped>\n",
       "    .dataframe tbody tr th:only-of-type {\n",
       "        vertical-align: middle;\n",
       "    }\n",
       "\n",
       "    .dataframe tbody tr th {\n",
       "        vertical-align: top;\n",
       "    }\n",
       "\n",
       "    .dataframe thead th {\n",
       "        text-align: right;\n",
       "    }\n",
       "</style>\n",
       "<table border=\"1\" class=\"dataframe\">\n",
       "  <thead>\n",
       "    <tr style=\"text-align: right;\">\n",
       "      <th></th>\n",
       "      <th>Bus</th>\n",
       "      <th>Ridership</th>\n",
       "      <th>Taxi</th>\n",
       "      <th>Uber</th>\n",
       "      <th>delta</th>\n",
       "    </tr>\n",
       "  </thead>\n",
       "  <tbody>\n",
       "    <tr>\n",
       "      <th>60</th>\n",
       "      <td>2775029.0</td>\n",
       "      <td>16748182.0</td>\n",
       "      <td>922337.0</td>\n",
       "      <td>4336528.0</td>\n",
       "      <td>0.0</td>\n",
       "    </tr>\n",
       "    <tr>\n",
       "      <th>61</th>\n",
       "      <td>2930430.0</td>\n",
       "      <td>19236884.0</td>\n",
       "      <td>1194697.0</td>\n",
       "      <td>4105444.0</td>\n",
       "      <td>31.0</td>\n",
       "    </tr>\n",
       "    <tr>\n",
       "      <th>62</th>\n",
       "      <td>2997932.0</td>\n",
       "      <td>22407991.0</td>\n",
       "      <td>1404638.0</td>\n",
       "      <td>4731468.0</td>\n",
       "      <td>60.0</td>\n",
       "    </tr>\n",
       "    <tr>\n",
       "      <th>63</th>\n",
       "      <td>3020480.0</td>\n",
       "      <td>21979083.0</td>\n",
       "      <td>1369881.0</td>\n",
       "      <td>4583160.0</td>\n",
       "      <td>91.0</td>\n",
       "    </tr>\n",
       "    <tr>\n",
       "      <th>64</th>\n",
       "      <td>3074190.0</td>\n",
       "      <td>20448297.0</td>\n",
       "      <td>1323154.0</td>\n",
       "      <td>4918088.0</td>\n",
       "      <td>121.0</td>\n",
       "    </tr>\n",
       "  </tbody>\n",
       "</table>\n",
       "</div>"
      ],
      "text/plain": [
       "          Bus   Ridership       Taxi       Uber  delta\n",
       "60  2775029.0  16748182.0   922337.0  4336528.0    0.0\n",
       "61  2930430.0  19236884.0  1194697.0  4105444.0   31.0\n",
       "62  2997932.0  22407991.0  1404638.0  4731468.0   60.0\n",
       "63  3020480.0  21979083.0  1369881.0  4583160.0   91.0\n",
       "64  3074190.0  20448297.0  1323154.0  4918088.0  121.0"
      ]
     },
     "execution_count": 254,
     "metadata": {},
     "output_type": "execute_result"
    }
   ],
   "source": [
    "df = pd.DataFrame(pd.read_csv('../combined.csv'))\n",
    "df = df.dropna(axis=0, how='any')\n",
    "df['Date'] = pd.to_datetime(df['Date'])\n",
    "\n",
    "for column in df.columns:\n",
    "    if df[column].dtype == 'datetime64[ns]':\n",
    "        df['delta'] = (df[column] - df[column].min()).astype('timedelta64[D]')\n",
    "        df = df.drop([column], axis=1)\n",
    "\n",
    "print(df.dtypes)\n",
    "df.head()\n"
   ]
  },
  {
   "cell_type": "code",
   "execution_count": 203,
   "metadata": {},
   "outputs": [],
   "source": [
    "dependent_name = df.columns[ind]\n",
    "#dependent = df.iloc[:,ind]\n",
    "features = [column for column in df]\n",
    "independent = [feature for feature in features if feature != dependent_name]"
   ]
  },
  {
   "cell_type": "code",
   "execution_count": 204,
   "metadata": {},
   "outputs": [
    {
     "data": {
      "text/plain": [
       "['Bus', 'Taxi', 'Uber', 'date_delta']"
      ]
     },
     "execution_count": 204,
     "metadata": {},
     "output_type": "execute_result"
    }
   ],
   "source": [
    "independent"
   ]
  },
  {
   "cell_type": "code",
   "execution_count": 205,
   "metadata": {},
   "outputs": [
    {
     "name": "stdout",
     "output_type": "stream",
     "text": [
      "0.8020033398324042\n",
      "const         0.200949\n",
      "Bus           0.364532\n",
      "Taxi          0.000018\n",
      "Uber          0.134675\n",
      "date_delta    0.589372\n",
      "dtype: float64\n"
     ]
    },
    {
     "name": "stderr",
     "output_type": "stream",
     "text": [
      "/Users/sonik/anaconda3/envs/pythondata/lib/python3.6/site-packages/scipy/stats/stats.py:1390: UserWarning: kurtosistest only valid for n>=20 ... continuing anyway, n=19\n",
      "  \"anyway, n=%i\" % int(n))\n"
     ]
    },
    {
     "data": {
      "text/html": [
       "<table class=\"simpletable\">\n",
       "<caption>OLS Regression Results</caption>\n",
       "<tr>\n",
       "  <th>Dep. Variable:</th>        <td>Ridership</td>    <th>  R-squared:         </th> <td>   0.802</td>\n",
       "</tr>\n",
       "<tr>\n",
       "  <th>Model:</th>                   <td>OLS</td>       <th>  Adj. R-squared:    </th> <td>   0.745</td>\n",
       "</tr>\n",
       "<tr>\n",
       "  <th>Method:</th>             <td>Least Squares</td>  <th>  F-statistic:       </th> <td>   14.18</td>\n",
       "</tr>\n",
       "<tr>\n",
       "  <th>Date:</th>             <td>Sat, 14 Apr 2018</td> <th>  Prob (F-statistic):</th> <td>7.89e-05</td>\n",
       "</tr>\n",
       "<tr>\n",
       "  <th>Time:</th>                 <td>20:38:33</td>     <th>  Log-Likelihood:    </th> <td> -283.56</td>\n",
       "</tr>\n",
       "<tr>\n",
       "  <th>No. Observations:</th>      <td>    19</td>      <th>  AIC:               </th> <td>   577.1</td>\n",
       "</tr>\n",
       "<tr>\n",
       "  <th>Df Residuals:</th>          <td>    14</td>      <th>  BIC:               </th> <td>   581.8</td>\n",
       "</tr>\n",
       "<tr>\n",
       "  <th>Df Model:</th>              <td>     4</td>      <th>                     </th>     <td> </td>   \n",
       "</tr>\n",
       "<tr>\n",
       "  <th>Covariance Type:</th>      <td>nonrobust</td>    <th>                     </th>     <td> </td>   \n",
       "</tr>\n",
       "</table>\n",
       "<table class=\"simpletable\">\n",
       "<tr>\n",
       "       <td></td>         <th>coef</th>     <th>std err</th>      <th>t</th>      <th>P>|t|</th>  <th>[0.025</th>    <th>0.975]</th>  \n",
       "</tr>\n",
       "<tr>\n",
       "  <th>const</th>      <td>   6.6e+06</td> <td> 4.92e+06</td> <td>    1.342</td> <td> 0.201</td> <td>-3.95e+06</td> <td> 1.71e+07</td>\n",
       "</tr>\n",
       "<tr>\n",
       "  <th>Bus</th>        <td>   -1.8282</td> <td>    1.951</td> <td>   -0.937</td> <td> 0.365</td> <td>   -6.012</td> <td>    2.356</td>\n",
       "</tr>\n",
       "<tr>\n",
       "  <th>Taxi</th>       <td>   10.4894</td> <td>    1.653</td> <td>    6.347</td> <td> 0.000</td> <td>    6.945</td> <td>   14.034</td>\n",
       "</tr>\n",
       "<tr>\n",
       "  <th>Uber</th>       <td>    1.3068</td> <td>    0.823</td> <td>    1.588</td> <td> 0.135</td> <td>   -0.459</td> <td>    3.072</td>\n",
       "</tr>\n",
       "<tr>\n",
       "  <th>date_delta</th> <td>-1128.1700</td> <td> 2042.230</td> <td>   -0.552</td> <td> 0.589</td> <td>-5508.317</td> <td> 3251.977</td>\n",
       "</tr>\n",
       "</table>\n",
       "<table class=\"simpletable\">\n",
       "<tr>\n",
       "  <th>Omnibus:</th>       <td> 0.350</td> <th>  Durbin-Watson:     </th> <td>   2.047</td>\n",
       "</tr>\n",
       "<tr>\n",
       "  <th>Prob(Omnibus):</th> <td> 0.839</td> <th>  Jarque-Bera (JB):  </th> <td>   0.490</td>\n",
       "</tr>\n",
       "<tr>\n",
       "  <th>Skew:</th>          <td> 0.009</td> <th>  Prob(JB):          </th> <td>   0.783</td>\n",
       "</tr>\n",
       "<tr>\n",
       "  <th>Kurtosis:</th>      <td> 2.214</td> <th>  Cond. No.          </th> <td>1.51e+08</td>\n",
       "</tr>\n",
       "</table>"
      ],
      "text/plain": [
       "<class 'statsmodels.iolib.summary.Summary'>\n",
       "\"\"\"\n",
       "                            OLS Regression Results                            \n",
       "==============================================================================\n",
       "Dep. Variable:              Ridership   R-squared:                       0.802\n",
       "Model:                            OLS   Adj. R-squared:                  0.745\n",
       "Method:                 Least Squares   F-statistic:                     14.18\n",
       "Date:                Sat, 14 Apr 2018   Prob (F-statistic):           7.89e-05\n",
       "Time:                        20:38:33   Log-Likelihood:                -283.56\n",
       "No. Observations:                  19   AIC:                             577.1\n",
       "Df Residuals:                      14   BIC:                             581.8\n",
       "Df Model:                           4                                         \n",
       "Covariance Type:            nonrobust                                         \n",
       "==============================================================================\n",
       "                 coef    std err          t      P>|t|      [0.025      0.975]\n",
       "------------------------------------------------------------------------------\n",
       "const         6.6e+06   4.92e+06      1.342      0.201   -3.95e+06    1.71e+07\n",
       "Bus           -1.8282      1.951     -0.937      0.365      -6.012       2.356\n",
       "Taxi          10.4894      1.653      6.347      0.000       6.945      14.034\n",
       "Uber           1.3068      0.823      1.588      0.135      -0.459       3.072\n",
       "date_delta -1128.1700   2042.230     -0.552      0.589   -5508.317    3251.977\n",
       "==============================================================================\n",
       "Omnibus:                        0.350   Durbin-Watson:                   2.047\n",
       "Prob(Omnibus):                  0.839   Jarque-Bera (JB):                0.490\n",
       "Skew:                           0.009   Prob(JB):                        0.783\n",
       "Kurtosis:                       2.214   Cond. No.                     1.51e+08\n",
       "==============================================================================\n",
       "\n",
       "Warnings:\n",
       "[1] Standard Errors assume that the covariance matrix of the errors is correctly specified.\n",
       "[2] The condition number is large, 1.51e+08. This might indicate that there are\n",
       "strong multicollinearity or other numerical problems.\n",
       "\"\"\""
      ]
     },
     "execution_count": 205,
     "metadata": {},
     "output_type": "execute_result"
    }
   ],
   "source": [
    "y = df[dependent_name]\n",
    "X = df[independent]\n",
    "X = sm.add_constant(X)\n",
    "model1 = sm.OLS(y, X).fit()\n",
    "print(model1.rsquared)\n",
    "print(model1.pvalues)\n",
    "model1.summary()"
   ]
  },
  {
   "cell_type": "code",
   "execution_count": null,
   "metadata": {},
   "outputs": [],
   "source": []
  },
  {
   "cell_type": "code",
   "execution_count": 206,
   "metadata": {},
   "outputs": [
    {
     "data": {
      "text/plain": [
       "const         0.200949\n",
       "Bus           0.364532\n",
       "Taxi          0.000018\n",
       "Uber          0.134675\n",
       "date_delta    0.589372\n",
       "dtype: float64"
      ]
     },
     "execution_count": 206,
     "metadata": {},
     "output_type": "execute_result"
    }
   ],
   "source": [
    "model1.pvalues"
   ]
  },
  {
   "cell_type": "code",
   "execution_count": null,
   "metadata": {},
   "outputs": [],
   "source": []
  }
 ],
 "metadata": {
  "kernelspec": {
   "display_name": "Python 3",
   "language": "python",
   "name": "python3"
  },
  "language_info": {
   "codemirror_mode": {
    "name": "ipython",
    "version": 3
   },
   "file_extension": ".py",
   "mimetype": "text/x-python",
   "name": "python",
   "nbconvert_exporter": "python",
   "pygments_lexer": "ipython3",
   "version": "3.6.4"
  }
 },
 "nbformat": 4,
 "nbformat_minor": 2
}
